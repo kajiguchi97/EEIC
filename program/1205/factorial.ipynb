{
 "cells": [
  {
   "cell_type": "code",
   "execution_count": 24,
   "metadata": {},
   "outputs": [],
   "source": [
    "class MyRational:\n",
    "    def __init__(self, p, q):\n",
    "        self.p = p\n",
    "        self.q = q\n",
    "    def __repr__(self):\n",
    "        if self.q == 1:\n",
    "            return f'{self.p}'\n",
    "        else:\n",
    "            return f'{self.p} / {self.q}'\n",
    "    def __add__(self, a):\n",
    "        if self.q == a.q:\n",
    "            p1 = self.p + a.p\n",
    "            q1 = self.q\n",
    "            for i in range(q1, 2, -1):\n",
    "                if p1 % i == 0 and q1 % i == 0:\n",
    "                    return MyRational(int(p1/i), int(q1/i))\n",
    "            return MyRational(int(p1), int(q1))\n",
    "        else:\n",
    "            p1 = self.p * a.q + self.q * a.p\n",
    "            q1 = self.q * a.q\n",
    "            for i in range(q1, 2, -1):\n",
    "                if p1 % i == 0 and q1 % i == 0:\n",
    "                    return MyRational(int(p1/i), int(q1/i))\n",
    "            return MyRational(int(p1), int(q1))\n",
    "    def __mul__(self, a):\n",
    "        p1 = self.p * a.p\n",
    "        q1 = self.q * a.q\n",
    "        for i in range(q1, 2, -1):\n",
    "            if p1 % i == 0 and q1 % i == 0:\n",
    "                return MyRational(int(p1/i), int(q1/i))\n",
    "        return MyRational(int(p1), int(q1))\n",
    "    def __eq__(self, a):\n",
    "        return self.p == a.p and self.q == a.q\n",
    "    def __hash__(self):\n",
    "        return self.p + self.q\n",
    "    \n",
    "class MyInteger:\n",
    "    def __init__(self, p):\n",
    "        self.p = p\n",
    "    def factorial(self):\n",
    "        pp = 1\n",
    "        for i in range(1, self.p, 1):\n",
    "            pp *= i\n",
    "        return pp\n",
    "    def is_prime(self):\n",
    "        for i in range(2, int(self.p/2), 1):\n",
    "            if self.p % i == 0:\n",
    "                return False\n",
    "        return True"
   ]
  },
  {
   "cell_type": "code",
   "execution_count": 25,
   "metadata": {},
   "outputs": [
    {
     "name": "stdout",
     "output_type": "stream",
     "text": [
      "24\n",
      "True\n"
     ]
    }
   ],
   "source": [
    "a = MyInteger(5)\n",
    "print(a.factorial())\n",
    "print(a.is_prime())"
   ]
  }
 ],
 "metadata": {
  "kernelspec": {
   "display_name": "Python 3",
   "language": "python",
   "name": "python3"
  },
  "language_info": {
   "codemirror_mode": {
    "name": "ipython",
    "version": 3
   },
   "file_extension": ".py",
   "mimetype": "text/x-python",
   "name": "python",
   "nbconvert_exporter": "python",
   "pygments_lexer": "ipython3",
   "version": "3.6.1"
  }
 },
 "nbformat": 4,
 "nbformat_minor": 2
}
