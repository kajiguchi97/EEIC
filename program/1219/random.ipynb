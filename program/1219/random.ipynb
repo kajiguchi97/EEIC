{
 "cells": [
  {
   "cell_type": "code",
   "execution_count": 77,
   "metadata": {},
   "outputs": [
    {
     "data": {
      "text/plain": [
       "4.4672"
      ]
     },
     "execution_count": 77,
     "metadata": {},
     "output_type": "execute_result"
    }
   ],
   "source": [
    "import numpy as np\n",
    "size = 10000\n",
    "x = np.random.uniform(-2,2,size)\n",
    "y = np.random.uniform(-2,2,size)\n",
    "z = np.random.uniform(-2,2,size)\n",
    "part = np.array([x+y+2*z>1,2*x*x+3*y*y+z*z<4])\n",
    "a = np.all(part == True, axis=0) #列ごとに見る\n",
    "(4**3)*len(a[a==True])/size"
   ]
  },
  {
   "cell_type": "code",
   "execution_count": 80,
   "metadata": {},
   "outputs": [
    {
     "data": {
      "text/plain": [
       "4.4672"
      ]
     },
     "execution_count": 80,
     "metadata": {},
     "output_type": "execute_result"
    }
   ],
   "source": [
    "def inner(x, y, z):\n",
    "    if(x + y + 2*z > 1):\n",
    "        if(2*(x**2) + 3*(y**2) + z**2 < 4):\n",
    "            return 1\n",
    "    return 0\n",
    "invec = np.vectorize(inner)\n",
    "a = np.array([invec(x, y, z)])\n",
    "(4**3)*len(a[a==1])/size"
   ]
  },
  {
   "cell_type": "code",
   "execution_count": null,
   "metadata": {
    "collapsed": true
   },
   "outputs": [],
   "source": []
  }
 ],
 "metadata": {
  "kernelspec": {
   "display_name": "Python 3",
   "language": "python",
   "name": "python3"
  },
  "language_info": {
   "codemirror_mode": {
    "name": "ipython",
    "version": 3
   },
   "file_extension": ".py",
   "mimetype": "text/x-python",
   "name": "python",
   "nbconvert_exporter": "python",
   "pygments_lexer": "ipython3",
   "version": "3.6.1"
  }
 },
 "nbformat": 4,
 "nbformat_minor": 2
}
