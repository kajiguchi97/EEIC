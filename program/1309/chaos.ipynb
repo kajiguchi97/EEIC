{
 "cells": [
  {
   "cell_type": "code",
   "execution_count": 149,
   "metadata": {},
   "outputs": [
    {
     "name": "stdout",
     "output_type": "stream",
     "text": [
      "-0.440000   0.0\n",
      "-0.320000   0.09090909090909091\n",
      "-0.240000   0.16666666666666669\n",
      "-0.120000   0.23076923076923075\n",
      "-0.040000   0.28571428571428575\n",
      "-0.040000   0.3333333333333333\n",
      "0.200000   0.37499999999999994\n",
      "0.320000   0.4117647058823529\n",
      "0.400000   0.4444444444444445\n",
      "0.520000   0.4736842105263158\n",
      "0.560000   0.5\n"
     ]
    }
   ],
   "source": [
    "## わからなかったこと２つ\n",
    "import subprocess\n",
    "# import matplotlib.pyplot as plt\n",
    "# import numpy as np\n",
    "def y1(q):\n",
    "    return (q/100)/((q/100)+1)\n",
    "\n",
    "## C言語呼び出し時の引数を変数にしてfor文で少しずつ変えること\n",
    "# for q in range(100):\n",
    "output = subprocess.run(args = ['./a.out', '0', '50'],\n",
    "                        stdout = subprocess.PIPE)\n",
    "print(f'{output.stdout.decode()}   {y1(0)}')\n",
    "output = subprocess.run(args = ['./a.out', '10', '50'],\n",
    "                        stdout = subprocess.PIPE)\n",
    "print(f'{output.stdout.decode()}   {y1(10)}')\n",
    "output = subprocess.run(args = ['./a.out', '20', '50'],\n",
    "                        stdout = subprocess.PIPE)\n",
    "print(f'{output.stdout.decode()}   {y1(20)}')\n",
    "output = subprocess.run(args = ['./a.out', '30', '50'],\n",
    "                        stdout = subprocess.PIPE)\n",
    "print(f'{output.stdout.decode()}   {y1(30)}')\n",
    "output = subprocess.run(args = ['./a.out', '40', '50'],\n",
    "                        stdout = subprocess.PIPE)\n",
    "print(f'{output.stdout.decode()}   {y1(40)}')\n",
    "output = subprocess.run(args = ['./a.out', '50', '50'],\n",
    "                        stdout = subprocess.PIPE)\n",
    "print(f'{output.stdout.decode()}   {y1(50)}')\n",
    "output = subprocess.run(args = ['./a.out', '60', '50'],\n",
    "                        stdout = subprocess.PIPE)\n",
    "print(f'{output.stdout.decode()}   {y1(60)}')\n",
    "output = subprocess.run(args = ['./a.out', '70', '50'],\n",
    "                        stdout = subprocess.PIPE)\n",
    "print(f'{output.stdout.decode()}   {y1(70)}')\n",
    "output = subprocess.run(args = ['./a.out', '80', '50'],\n",
    "                        stdout = subprocess.PIPE)\n",
    "print(f'{output.stdout.decode()}   {y1(80)}')\n",
    "output = subprocess.run(args = ['./a.out', '90', '50'],\n",
    "                        stdout = subprocess.PIPE)\n",
    "print(f'{output.stdout.decode()}   {y1(90)}')\n",
    "output = subprocess.run(args = ['./a.out', '100', '50'],\n",
    "                        stdout = subprocess.PIPE)\n",
    "print(f'{output.stdout.decode()}   {y1(100)}')\n",
    "\n",
    "\n",
    "\n",
    "## C言語の出力値をリストに格納できなかったこと\n",
    "# list[output]としてplt.scatterしたかった\n",
    "# x = np.arange(0,100)\n",
    "# y1 = (x/100)/((x/100)+1)　解析解\n",
    "# plt.plot(y1)\n",
    "# plt.show()"
   ]
  },
  {
   "cell_type": "code",
   "execution_count": null,
   "metadata": {
    "collapsed": true
   },
   "outputs": [],
   "source": []
  },
  {
   "cell_type": "code",
   "execution_count": null,
   "metadata": {
    "collapsed": true
   },
   "outputs": [],
   "source": []
  },
  {
   "cell_type": "code",
   "execution_count": null,
   "metadata": {
    "collapsed": true
   },
   "outputs": [],
   "source": []
  }
 ],
 "metadata": {
  "kernelspec": {
   "display_name": "Python 3",
   "language": "python",
   "name": "python3"
  },
  "language_info": {
   "codemirror_mode": {
    "name": "ipython",
    "version": 3
   },
   "file_extension": ".py",
   "mimetype": "text/x-python",
   "name": "python",
   "nbconvert_exporter": "python",
   "pygments_lexer": "ipython3",
   "version": "3.6.1"
  }
 },
 "nbformat": 4,
 "nbformat_minor": 2
}
