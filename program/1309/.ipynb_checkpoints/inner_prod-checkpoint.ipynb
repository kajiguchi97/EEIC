{
 "cells": [
  {
   "cell_type": "code",
   "execution_count": 3,
   "metadata": {},
   "outputs": [
    {
     "name": "stdout",
     "output_type": "stream",
     "text": [
      "0\n",
      "0\n",
      "48*sqrt(pi)\n",
      "3840*sqrt(pi)\n"
     ]
    }
   ],
   "source": [
    "import sympy\n",
    "sympy.init_printing()\n",
    "x = sympy.Symbol('x')\n",
    "\n",
    "def hermite(n, x):\n",
    "    if n == 0:\n",
    "        return 1\n",
    "    elif n == 1:\n",
    "        return 2*x\n",
    "    else:\n",
    "        return 2*x*hermite(n-1,x) - 2*(n-1)*hermite(n-2,x)\n",
    "    \n",
    "def inner_prod(m, n):\n",
    "    return sympy.integrate(hermite(m,x)*hermite(n,x)*sympy.exp(-x**2),\n",
    "                    (x, -sympy.oo, sympy.oo))\n",
    "\n",
    "print(inner_prod(1,2))\n",
    "print(inner_prod(7,5)) \n",
    "print(inner_prod(3,3)) # 2^3 * 3! = 48\n",
    "print(inner_prod(5,5)) # 2^5 * 5! = 3840"
   ]
  },
  {
   "cell_type": "code",
   "execution_count": null,
   "metadata": {
    "collapsed": true
   },
   "outputs": [],
   "source": []
  }
 ],
 "metadata": {
  "kernelspec": {
   "display_name": "Python 3",
   "language": "python",
   "name": "python3"
  },
  "language_info": {
   "codemirror_mode": {
    "name": "ipython",
    "version": 3
   },
   "file_extension": ".py",
   "mimetype": "text/x-python",
   "name": "python",
   "nbconvert_exporter": "python",
   "pygments_lexer": "ipython3",
   "version": "3.6.1"
  }
 },
 "nbformat": 4,
 "nbformat_minor": 2
}
