{
 "cells": [
  {
   "cell_type": "code",
   "execution_count": 31,
   "metadata": {},
   "outputs": [],
   "source": [
    "class MyRational:\n",
    "    def __init__(self, p, q):\n",
    "        self.p = p\n",
    "        self.q = q\n",
    "    def __repr__(self):\n",
    "        if self.q == 1:\n",
    "            return f'{self.p}'\n",
    "        else:\n",
    "            return f'{self.p} / {self.q}'\n",
    "    def __add__(self, a):\n",
    "        if self.q == a.q:\n",
    "            p1 = self.p + a.p\n",
    "            q1 = self.q\n",
    "            for i in range(q1, 2, -1):\n",
    "                if p1 % i == 0 and q1 % i == 0:\n",
    "                    return MyRational(int(p1/i), int(q1/i))\n",
    "            return MyRational(int(p1), int(q1))\n",
    "        else:\n",
    "            p1 = self.p * a.q + self.q * a.p\n",
    "            q1 = self.q * a.q\n",
    "            for i in range(q1, 2, -1):\n",
    "                if p1 % i == 0 and q1 % i == 0:\n",
    "                    return MyRational(int(p1/i), int(q1/i))\n",
    "            return MyRational(int(p1), int(q1))\n",
    "    def __mul__(self, a):\n",
    "        p1 = self.p * a.p\n",
    "        q1 = self.q * a.q\n",
    "        for i in range(q1, 2, -1):\n",
    "            if p1 % i == 0 and q1 % i == 0:\n",
    "                return MyRational(int(p1/i), int(q1/i))\n",
    "        return MyRational(int(p1), int(q1))\n",
    "    def __eq__(self, a):\n",
    "        return self.p == a.p and self.q == a.q\n",
    "    def __hash__(self):\n",
    "        return self.p + self.q"
   ]
  },
  {
   "cell_type": "code",
   "execution_count": 34,
   "metadata": {},
   "outputs": [
    {
     "name": "stdout",
     "output_type": "stream",
     "text": [
      "2 / 3\n",
      "17 / 21\n",
      "True\n",
      "True\n"
     ]
    },
    {
     "data": {
      "text/plain": [
       "'2 / 3'"
      ]
     },
     "execution_count": 34,
     "metadata": {},
     "output_type": "execute_result"
    }
   ],
   "source": [
    "r1 = MyRational(2, 3)\n",
    "print(r1)\n",
    "r2 = MyRational(1, 7)\n",
    "print(r1 + r2)\n",
    "r3 = MyRational(2, 3)\n",
    "print(r1.__eq__(r3))\n",
    "print(r1 == r3)\n",
    "a = {MyRational(2,3):'2 / 3', MyRational(1,3):'1 / 3'}\n",
    "a[MyRational(2,3)]"
   ]
  },
  {
   "cell_type": "code",
   "execution_count": null,
   "metadata": {
    "collapsed": true
   },
   "outputs": [],
   "source": []
  }
 ],
 "metadata": {
  "kernelspec": {
   "display_name": "Python 3",
   "language": "python",
   "name": "python3"
  },
  "language_info": {
   "codemirror_mode": {
    "name": "ipython",
    "version": 3
   },
   "file_extension": ".py",
   "mimetype": "text/x-python",
   "name": "python",
   "nbconvert_exporter": "python",
   "pygments_lexer": "ipython3",
   "version": "3.6.1"
  }
 },
 "nbformat": 4,
 "nbformat_minor": 2
}
