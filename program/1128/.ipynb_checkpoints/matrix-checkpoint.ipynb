{
 "cells": [
  {
   "cell_type": "code",
   "execution_count": 21,
   "metadata": {},
   "outputs": [],
   "source": [
    "class Matrix:\n",
    "    def __init__(self, a, b, c, d):\n",
    "        self.a = a\n",
    "        self.b = b\n",
    "        self.c = c\n",
    "        self.d = d\n",
    "    def __repr__(self):\n",
    "        s = f'[{self.a}, {self.b}]\\n'\n",
    "        s += f'[{self.c}, {self.d}]'\n",
    "        return s\n",
    "    def add(self, m):\n",
    "        return Matrix(self.a+m.a, self.b+m.b, self.c+m.c, self.d+m.d)\n",
    "    def mul(self, m):\n",
    "        return Matrix(self.a*m.a+self.b*m.c, self.a*m.b+self.b*m.d, self.c*m.a+self.d*m.c, self.c*m.b+self.d*m.d)"
   ]
  },
  {
   "cell_type": "code",
   "execution_count": 23,
   "metadata": {},
   "outputs": [
    {
     "name": "stdout",
     "output_type": "stream",
     "text": [
      "[2, 2]\n",
      "[5, 2]\n",
      "[1, 2]\n",
      "[5, 1]\n"
     ]
    }
   ],
   "source": [
    "m1 = Matrix(1,2,5,1)\n",
    "m2 = Matrix(1,0,0,1)\n",
    "m3 = m1.add(m2)\n",
    "print(m3)\n",
    "m4 = m1.mul(m2)\n",
    "print(m4)"
   ]
  }
 ],
 "metadata": {
  "kernelspec": {
   "display_name": "Python 3",
   "language": "python",
   "name": "python3"
  },
  "language_info": {
   "codemirror_mode": {
    "name": "ipython",
    "version": 3
   },
   "file_extension": ".py",
   "mimetype": "text/x-python",
   "name": "python",
   "nbconvert_exporter": "python",
   "pygments_lexer": "ipython3",
   "version": "3.6.1"
  }
 },
 "nbformat": 4,
 "nbformat_minor": 2
}
