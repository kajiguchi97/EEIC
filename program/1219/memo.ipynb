{
 "cells": [
  {
   "cell_type": "code",
   "execution_count": 1,
   "metadata": {},
   "outputs": [
    {
     "ename": "TypeError",
     "evalue": "data type not understood",
     "output_type": "error",
     "traceback": [
      "\u001b[0;31m---------------------------------------------------------------------------\u001b[0m",
      "\u001b[0;31mTypeError\u001b[0m                                 Traceback (most recent call last)",
      "\u001b[0;32m<ipython-input-1-ec4bce0a0ec9>\u001b[0m in \u001b[0;36m<module>\u001b[0;34m()\u001b[0m\n\u001b[1;32m      1\u001b[0m \u001b[0;32mimport\u001b[0m \u001b[0mnumpy\u001b[0m \u001b[0;32mas\u001b[0m \u001b[0mnp\u001b[0m\u001b[0;34m\u001b[0m\u001b[0m\n\u001b[1;32m      2\u001b[0m \u001b[0ma1\u001b[0m \u001b[0;34m=\u001b[0m \u001b[0mnp\u001b[0m\u001b[0;34m.\u001b[0m\u001b[0marray\u001b[0m\u001b[0;34m(\u001b[0m\u001b[0;34m[\u001b[0m\u001b[0;36m1\u001b[0m\u001b[0;34m,\u001b[0m \u001b[0;36m2\u001b[0m\u001b[0;34m,\u001b[0m \u001b[0;36m3\u001b[0m\u001b[0;34m,\u001b[0m \u001b[0;36m4\u001b[0m\u001b[0;34m]\u001b[0m\u001b[0;34m)\u001b[0m \u001b[0;31m# 1D array\u001b[0m\u001b[0;34m\u001b[0m\u001b[0m\n\u001b[0;32m----> 3\u001b[0;31m \u001b[0ma2\u001b[0m \u001b[0;34m=\u001b[0m \u001b[0mnp\u001b[0m\u001b[0;34m.\u001b[0m\u001b[0marray\u001b[0m\u001b[0;34m(\u001b[0m\u001b[0;34m[\u001b[0m\u001b[0;36m1\u001b[0m\u001b[0;34m,\u001b[0m \u001b[0;36m2\u001b[0m\u001b[0;34m]\u001b[0m\u001b[0;34m,\u001b[0m\u001b[0;34m[\u001b[0m\u001b[0;36m5\u001b[0m\u001b[0;34m,\u001b[0m \u001b[0;36m2\u001b[0m\u001b[0;34m]\u001b[0m\u001b[0;34m)\u001b[0m \u001b[0;31m# 2D array\u001b[0m\u001b[0;34m\u001b[0m\u001b[0m\n\u001b[0m\u001b[1;32m      4\u001b[0m \u001b[0ma3\u001b[0m \u001b[0;34m=\u001b[0m \u001b[0mnp\u001b[0m\u001b[0;34m.\u001b[0m\u001b[0mmatrix\u001b[0m\u001b[0;34m(\u001b[0m\u001b[0;34m[\u001b[0m\u001b[0;36m1\u001b[0m\u001b[0;34m,\u001b[0m \u001b[0;36m2\u001b[0m\u001b[0;34m]\u001b[0m\u001b[0;34m,\u001b[0m\u001b[0;34m[\u001b[0m\u001b[0;36m5\u001b[0m\u001b[0;34m,\u001b[0m \u001b[0;36m2\u001b[0m\u001b[0;34m]\u001b[0m\u001b[0;34m)\u001b[0m \u001b[0;31m# matrix\u001b[0m\u001b[0;34m\u001b[0m\u001b[0m\n\u001b[1;32m      5\u001b[0m \u001b[0;34m\u001b[0m\u001b[0m\n",
      "\u001b[0;31mTypeError\u001b[0m: data type not understood"
     ]
    }
   ],
   "source": [
    "import numpy as np\n",
    "a1 = np.array([1, 2, 3, 4]) # 1D array\n",
    "a2 = np.array([1, 2],[5, 2]) # 2D array\n",
    "a3 = np.matrix([1, 2],[5, 2]) # matrix\n",
    "\n",
    "np.linspace(0, 1, num = 11) # array[0, 0.1, ..., 0.9, 1] ## 11等分\n",
    "np.arange(0, 3, 0.5) # array([0, 0.5, ..., 2, 2.5]) ## 0.5ずつ刻む\n",
    "np.arange(3, 0, -0.5) # array([3, 2.5, ..., 1, 0.5])\n",
    "np.arange(20) #array([0, 1, ..., 19])\n",
    "np.tile([1, 2, 3], 3) # array([1, 2, 3, 1, 2, 3, 1, 2, 3]) ## 3回繰り返す\n",
    "np.asmatrix(a) # array -> matrix\n",
    "a.tolist() # array -> list\n",
    "np.asarray(m) # matrix -> array\n",
    "m.tolist() # matrix -> list\n",
    "\n",
    "#小数を格納するにあたって\n",
    "m = np.array([1,2], dtype = 'float')\n",
    "# or\n",
    "m = np.array([1.0, 2.0])\n",
    "\n",
    "#アクセスについて\n",
    "a[1], a[2:5], a[a > 10]\n",
    "\n",
    "#演算\n",
    "m = np.matrix([[1,2],[3,4]])\n",
    "a = np.array([[1,2],[3,4]])\n",
    "m**2# 行列の二乗 matrix([[7,10],[15,22]])\n",
    "a**2# 要素の二乗 array([[1,4],[9,16]])\n",
    "m**(-1) # 逆行列 matrix([[-2.,1.],[1.5,-0.5]])\n",
    "a**(-1.0) # 要素䛾逆数 array([[1.,0.5],[0.33,0.25]])\n",
    "\n",
    "# Vectorize\n",
    "def g(x):\n",
    "    return math.sin(x)\n",
    "gvec = np.vectorize(g)\n",
    "gvec(np.array([1,2,3,4,5]))\n",
    "\n",
    "#array形状変更\n",
    "a = n.array([1,2,3,4,5,6])\n",
    "a.reshape(2,3) #([1,2,3],[4,5,6]) ##引数に-1を指定すると自動。reshape(2,-1)など\n",
    "a.flatten() #([1,2,3,4,5,6])\n",
    "\n",
    "#統計\n",
    "np.random.randn() #正規乱数。平均０、分散１\n",
    "np.mean(arr)\n",
    "np.var(arr)\n",
    "\n",
    "#固有ベクトル、固有値\n",
    "np.linalg.eig(m)\n",
    "\n",
    "#array入出力\n",
    "a = np.loadtxt('test.txt')\n",
    "np.savetxt('test2.txt', a)"
   ]
  },
  {
   "cell_type": "code",
   "execution_count": null,
   "metadata": {
    "collapsed": true
   },
   "outputs": [],
   "source": []
  }
 ],
 "metadata": {
  "kernelspec": {
   "display_name": "Python 3",
   "language": "python",
   "name": "python3"
  },
  "language_info": {
   "codemirror_mode": {
    "name": "ipython",
    "version": 3
   },
   "file_extension": ".py",
   "mimetype": "text/x-python",
   "name": "python",
   "nbconvert_exporter": "python",
   "pygments_lexer": "ipython3",
   "version": "3.6.1"
  }
 },
 "nbformat": 4,
 "nbformat_minor": 2
}
