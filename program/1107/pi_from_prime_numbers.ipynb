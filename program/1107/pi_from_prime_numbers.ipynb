{
 "cells": [
  {
   "cell_type": "code",
   "execution_count": 1,
   "metadata": {},
   "outputs": [
    {
     "name": "stdout",
     "output_type": "stream",
     "text": [
      "pi = 3.1387371950717218\n"
     ]
    }
   ],
   "source": [
    "import math\n",
    "product = 1.0\n",
    "for i in range(2,100):\n",
    "    k = 0\n",
    "    f = i / 2\n",
    "    ii = 2\n",
    "    while f >= ii:\n",
    "        if (i % ii) == 0:\n",
    "            k = 1\n",
    "            break\n",
    "        ii += 1\n",
    "    if (k == 0):\n",
    "        product *= 1- 1.0/(i*i)\n",
    "ppp = math.sqrt(6.0/product)\n",
    "print('pi = ' + str(ppp))"
   ]
  }
 ],
 "metadata": {
  "kernelspec": {
   "display_name": "Python 3",
   "language": "python",
   "name": "python3"
  },
  "language_info": {
   "codemirror_mode": {
    "name": "ipython",
    "version": 3
   },
   "file_extension": ".py",
   "mimetype": "text/x-python",
   "name": "python",
   "nbconvert_exporter": "python",
   "pygments_lexer": "ipython3",
   "version": "3.6.1"
  }
 },
 "nbformat": 4,
 "nbformat_minor": 2
}
